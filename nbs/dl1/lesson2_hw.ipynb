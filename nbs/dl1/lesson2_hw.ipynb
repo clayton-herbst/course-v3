{
 "cells": [
  {
   "cell_type": "markdown",
   "metadata": {},
   "source": [
    "# Gradient Descent Implementation"
   ]
  },
  {
   "cell_type": "code",
   "execution_count": 1,
   "metadata": {},
   "outputs": [],
   "source": [
    "# from torch import *\n",
    "# import numpy\n",
    "%matplotlib inline\n",
    "import torch\n",
    "import numpy as np\n",
    "import matplotlib.pyplot as plt"
   ]
  },
  {
   "cell_type": "code",
   "execution_count": 2,
   "metadata": {},
   "outputs": [
    {
     "data": {
      "text/plain": [
       "tensor([[ 0.9320,  1.0000],\n",
       "        [-0.1234,  1.0000]])"
      ]
     },
     "execution_count": 2,
     "metadata": {},
     "output_type": "execute_result"
    }
   ],
   "source": [
    "torch.tensor([[0.932, 1],[-0.1234,1]])"
   ]
  },
  {
   "cell_type": "code",
   "execution_count": 3,
   "metadata": {},
   "outputs": [],
   "source": [
    "n = 100"
   ]
  },
  {
   "cell_type": "code",
   "execution_count": 4,
   "metadata": {},
   "outputs": [],
   "source": [
    "x = torch.ones(n,2)"
   ]
  },
  {
   "cell_type": "code",
   "execution_count": 5,
   "metadata": {},
   "outputs": [
    {
     "data": {
      "text/plain": [
       "tensor([[ 0.2965,  1.0000],\n",
       "        [-0.1259,  1.0000],\n",
       "        [-0.9914,  1.0000],\n",
       "        [ 0.5421,  1.0000],\n",
       "        [ 0.4641,  1.0000]])"
      ]
     },
     "execution_count": 5,
     "metadata": {},
     "output_type": "execute_result"
    }
   ],
   "source": [
    "x[:,0].uniform_(-1,1)\n",
    "x[:5]"
   ]
  },
  {
   "cell_type": "code",
   "execution_count": 6,
   "metadata": {},
   "outputs": [
    {
     "data": {
      "text/plain": [
       "tensor([3., 2.])"
      ]
     },
     "execution_count": 6,
     "metadata": {},
     "output_type": "execute_result"
    }
   ],
   "source": [
    "a = torch.tensor([3.,2.])\n",
    "a"
   ]
  },
  {
   "cell_type": "code",
   "execution_count": 7,
   "metadata": {},
   "outputs": [],
   "source": [
    "y = x@a + torch.rand(n) # 100 data points & some random error"
   ]
  },
  {
   "cell_type": "code",
   "execution_count": 8,
   "metadata": {},
   "outputs": [
    {
     "data": {
      "text/plain": [
       "[<matplotlib.lines.Line2D at 0x12149c520>]"
      ]
     },
     "execution_count": 8,
     "metadata": {},
     "output_type": "execute_result"
    },
    {
     "data": {
      "image/png": "[encoded data removed]",
      "text/plain": [
       "<Figure size 432x288 with 1 Axes>"
      ]
     },
     "metadata": {
      "needs_background": "light"
     },
     "output_type": "display_data"
    }
   ],
   "source": [
    "plt.plot(x[:,0],y,'ro')"
   ]
  },
  {
   "cell_type": "markdown",
   "metadata": {},
   "source": [
    "## Loss Function\n",
    "Mean squared error function is being used as the loss function."
   ]
  },
  {
   "cell_type": "code",
   "execution_count": 9,
   "metadata": {},
   "outputs": [],
   "source": [
    "def mse(y_hat, y):\n",
    "    return ((y_hat - y)**2).mean() # returns the mean value of all the elements in the tensor"
   ]
  },
  {
   "cell_type": "markdown",
   "metadata": {},
   "source": [
    "## PyTorch Implementation\n",
    "\n",
    "Using their _torch.autograd_ functionality to calculate the gradient of the given tensor and hence update the paramaters."
   ]
  },
  {
   "cell_type": "code",
   "execution_count": 10,
   "metadata": {},
   "outputs": [
    {
     "data": {
      "text/plain": [
       "tensor([-1.,  1.], requires_grad=True)"
      ]
     },
     "execution_count": 10,
     "metadata": {},
     "output_type": "execute_result"
    }
   ],
   "source": [
    "a = torch.tensor([-1,1], dtype=torch.float, requires_grad=True)\n",
    "a"
   ]
  },
  {
   "cell_type": "code",
   "execution_count": 11,
   "metadata": {},
   "outputs": [],
   "source": [
    "def update_torch(lr=1e-1):\n",
    "    y_hat = x@a # matrix multiplication\n",
    "    loss = mse(y_hat, y)\n",
    "    print(f'loss: {loss}')\n",
    "    loss.backward()\n",
    "    with torch.no_grad():\n",
    "        print(f'Gradient of paramaters: {a.grad}')\n",
    "        a.sub_(lr * a.grad)\n",
    "        a.grad.zero_()\n",
    "    "
   ]
  },
  {
   "cell_type": "code",
   "execution_count": 12,
   "metadata": {},
   "outputs": [
    {
     "name": "stdout",
     "output_type": "stream",
     "text": [
      "loss: 7.565099716186523\n",
      "Gradient of paramaters: tensor([-2.5648, -3.3516])\n",
      "loss: 5.924997329711914\n",
      "Gradient of paramaters: tensor([-2.3731, -2.6568])\n",
      "loss: 4.750115871429443\n",
      "Gradient of paramaters: tensor([-2.1999, -2.1028])\n",
      "loss: 3.887650728225708\n",
      "Gradient of paramaters: tensor([-2.0429, -1.6613])\n",
      "loss: 3.2381556034088135\n",
      "Gradient of paramaters: tensor([-1.8998, -1.3096])\n",
      "loss: 2.7364957332611084\n",
      "Gradient of paramaters: tensor([-1.7690, -1.0295])\n",
      "loss: 2.3396472930908203\n",
      "Gradient of paramaters: tensor([-1.6490, -0.8068])\n",
      "loss: 2.0188848972320557\n",
      "Gradient of paramaters: tensor([-1.5386, -0.6297])\n",
      "loss: 1.7547645568847656\n",
      "Gradient of paramaters: tensor([-1.4368, -0.4891])\n",
      "loss: 1.5339040756225586\n",
      "Gradient of paramaters: tensor([-1.3426, -0.3776])\n"
     ]
    }
   ],
   "source": [
    "for t in range(10): update_torch()"
   ]
  },
  {
   "cell_type": "code",
   "execution_count": 13,
   "metadata": {},
   "outputs": [
    {
     "data": {
      "text/plain": [
       "tensor([2.7029, 2.3305, 1.5674, 2.9194, 2.8506, 2.5386, 3.1216, 2.7349, 2.2151,\n",
       "        2.0640, 2.9189, 2.3114, 2.9532, 1.8666, 2.4775, 3.0560, 2.8610, 2.1493,\n",
       "        2.8107, 2.2318, 2.4131, 2.7370, 1.6513, 3.1542, 2.6054, 1.7360, 2.9829,\n",
       "        2.8092, 1.7696, 2.6498, 2.2494, 2.9174, 2.6887, 2.4839, 3.3042, 3.2315,\n",
       "        3.0924, 2.1196, 2.6499, 2.4596, 2.8907, 2.9826, 1.8637, 2.0317, 2.4519,\n",
       "        2.5606, 2.8779, 3.0964, 2.2725, 2.6417, 2.4430, 2.2875, 2.8363, 2.7314,\n",
       "        1.8356, 2.3442, 3.1584, 3.0538, 1.6607, 2.3831, 2.7668, 2.0301, 1.7997,\n",
       "        1.7745, 1.9819, 2.0778, 1.7905, 2.6538, 2.3079, 2.0270, 3.1508, 3.2879,\n",
       "        1.8082, 1.6666, 3.0041, 3.2180, 2.4548, 3.1306, 2.0166, 1.8879, 2.2927,\n",
       "        1.8980, 1.7230, 3.0914, 2.2470, 2.8429, 2.2677, 3.0795, 2.9935, 3.1964,\n",
       "        2.7080, 3.1081, 1.8965, 1.9506, 2.0919, 1.6345, 1.9377, 2.1656, 2.3721,\n",
       "        3.2270])"
      ]
     },
     "execution_count": 13,
     "metadata": {},
     "output_type": "execute_result"
    }
   ],
   "source": [
    "with torch.no_grad(): # remove the gradient value in the tensor to allow for plotting\n",
    "    y_hat = x@a\n",
    "    \n",
    "y_hat"
   ]
  },
  {
   "cell_type": "code",
   "execution_count": 14,
   "metadata": {},
   "outputs": [
    {
     "data": {
      "text/plain": [
       "<matplotlib.collections.PathCollection at 0x1215acdc0>"
      ]
     },
     "execution_count": 14,
     "metadata": {},
     "output_type": "execute_result"
    },
    {
     "data": {
      "image/png": "[encoded data removed]",
      "text/plain": [
       "<Figure size 432x288 with 1 Axes>"
      ]
     },
     "metadata": {
      "needs_background": "light"
     },
     "output_type": "display_data"
    }
   ],
   "source": [
    "fig = plt.figure()\n",
    "plt.scatter(x[:,0],y)\n",
    "plt.scatter(x[:,0],y_hat)"
   ]
  },
  {
   "cell_type": "code",
   "execution_count": 15,
   "metadata": {},
   "outputs": [
    {
     "name": "stdout",
     "output_type": "stream",
     "text": [
      "loss: 1.3469079732894897\n",
      "Gradient of paramaters: tensor([-1.2554, -0.2893])\n",
      "loss: 1.18703031539917\n",
      "Gradient of paramaters: tensor([-1.1744, -0.2194])\n",
      "loss: 1.0493056774139404\n",
      "Gradient of paramaters: tensor([-1.0992, -0.1644])\n",
      "loss: 0.9299847483634949\n",
      "Gradient of paramaters: tensor([-1.0292, -0.1210])\n",
      "loss: 0.8261645436286926\n",
      "Gradient of paramaters: tensor([-0.9639, -0.0870])\n",
      "loss: 0.7355433106422424\n",
      "Gradient of paramaters: tensor([-0.9031, -0.0604])\n",
      "loss: 0.6562564373016357\n",
      "Gradient of paramaters: tensor([-0.8462, -0.0397])\n",
      "loss: 0.5867663025856018\n",
      "Gradient of paramaters: tensor([-0.7931, -0.0237])\n",
      "loss: 0.5257851481437683\n",
      "Gradient of paramaters: tensor([-0.7435, -0.0114])\n",
      "loss: 0.4722215533256531\n",
      "Gradient of paramaters: tensor([-0.6971, -0.0020])\n",
      "loss: 0.42514142394065857\n",
      "Gradient of paramaters: tensor([-0.6537,  0.0050])\n",
      "loss: 0.3837394714355469\n",
      "Gradient of paramaters: tensor([-0.6130,  0.0102])\n",
      "loss: 0.34731805324554443\n",
      "Gradient of paramaters: tensor([-0.5749,  0.0140])\n",
      "loss: 0.3152695596218109\n",
      "Gradient of paramaters: tensor([-0.5392,  0.0167])\n",
      "loss: 0.2870636582374573\n",
      "Gradient of paramaters: tensor([-0.5058,  0.0185])\n",
      "loss: 0.26223626732826233\n",
      "Gradient of paramaters: tensor([-0.4745,  0.0196])\n",
      "loss: 0.24038054049015045\n",
      "Gradient of paramaters: tensor([-0.4451,  0.0202])\n",
      "loss: 0.22113920748233795\n",
      "Gradient of paramaters: tensor([-0.4176,  0.0204])\n",
      "loss: 0.20419882237911224\n",
      "Gradient of paramaters: tensor([-0.3918,  0.0203])\n",
      "loss: 0.1892835646867752\n",
      "Gradient of paramaters: tensor([-0.3676,  0.0200])\n",
      "loss: 0.1761510968208313\n",
      "Gradient of paramaters: tensor([-0.3449,  0.0195])\n",
      "loss: 0.16458797454833984\n",
      "Gradient of paramaters: tensor([-0.3236,  0.0189])\n",
      "loss: 0.15440653264522552\n",
      "Gradient of paramaters: tensor([-0.3036,  0.0182])\n",
      "loss: 0.1454416662454605\n",
      "Gradient of paramaters: tensor([-0.2849,  0.0174])\n",
      "loss: 0.13754785060882568\n",
      "Gradient of paramaters: tensor([-0.2673,  0.0167])\n"
     ]
    }
   ],
   "source": [
    "for t in range(25): update_torch()"
   ]
  },
  {
   "cell_type": "code",
   "execution_count": 16,
   "metadata": {},
   "outputs": [
    {
     "data": {
      "text/plain": [
       "<matplotlib.collections.PathCollection at 0x1216893d0>"
      ]
     },
     "execution_count": 16,
     "metadata": {},
     "output_type": "execute_result"
    },
    {
     "data": {
      "image/png": "[encoded data removed]",
      "text/plain": [
       "<Figure size 432x288 with 1 Axes>"
      ]
     },
     "metadata": {
      "needs_background": "light"
     },
     "output_type": "display_data"
    }
   ],
   "source": [
    "with torch.no_grad():\n",
    "    y_hat = x@a\n",
    "\n",
    "fig = plt.figure()\n",
    "plt.scatter(x[:,0], y)\n",
    "plt.scatter(x[:,0], y_hat)"
   ]
  },
  {
   "cell_type": "markdown",
   "metadata": {},
   "source": [
    "## Own Implementation of Gradient\n",
    "\n",
    "Executed in order to better cement understanding around the inner workings of gradient descent."
   ]
  },
  {
   "cell_type": "code",
   "execution_count": 95,
   "metadata": {},
   "outputs": [],
   "source": [
    "def update(v,X,Y,lr=1e-1):\n",
    "    '''\n",
    "    Update the paramters using the partial derivates of the mean squared error\n",
    "    '''\n",
    "    der_a = 0.0\n",
    "    der_b = 0.0\n",
    "    l = len(X)\n",
    "    for i in range(l):\n",
    "        y_hat = X[i,0]*v[0] + X[i,1]*v[1] # approximation\n",
    "        der_a += (-2*X[i,0]) * ((Y[i] - y_hat))\n",
    "        der_b += -2*((Y[i] - y_hat))\n",
    "        \n",
    "    mean_a = der_a / float(l) # mean loss w.r.t a\n",
    "    mean_b = der_b / float(l) # mean loss w.r.t b\n",
    "    \n",
    "    # UPDATE PARAMETERS\n",
    "    v[0] -= mean_a * lr\n",
    "    v[1] -= mean_b * lr\n",
    "\n",
    "    return v # updated parameters"
   ]
  },
  {
   "cell_type": "markdown",
   "metadata": {},
   "source": [
    "#### Testing"
   ]
  },
  {
   "cell_type": "code",
   "execution_count": 96,
   "metadata": {},
   "outputs": [],
   "source": [
    "v = torch.tensor([-1, 1], dtype=torch.float)"
   ]
  },
  {
   "cell_type": "code",
   "execution_count": 97,
   "metadata": {},
   "outputs": [
    {
     "data": {
      "text/plain": [
       "<matplotlib.collections.PathCollection at 0x1236487c0>"
      ]
     },
     "execution_count": 97,
     "metadata": {},
     "output_type": "execute_result"
    },
    {
     "data": {
      "image/png": "[encoded data removed]",
      "text/plain": [
       "<Figure size 432x288 with 1 Axes>"
      ]
     },
     "metadata": {
      "needs_background": "light"
     },
     "output_type": "display_data"
    }
   ],
   "source": [
    "y_hat = x@v\n",
    "\n",
    "plt.scatter(x[:,0], y)\n",
    "plt.scatter(x[:,0], y_hat)"
   ]
  },
  {
   "cell_type": "code",
   "execution_count": 98,
   "metadata": {},
   "outputs": [
    {
     "data": {
      "text/plain": [
       "tensor([2.7330, 2.5012])"
      ]
     },
     "execution_count": 98,
     "metadata": {},
     "output_type": "execute_result"
    }
   ],
   "source": [
    "for t in range(50):\n",
    "    v = update(v, x, y)\n",
    "v"
   ]
  },
  {
   "cell_type": "code",
   "execution_count": 99,
   "metadata": {},
   "outputs": [
    {
     "data": {
      "text/plain": [
       "<matplotlib.collections.PathCollection at 0x12375af10>"
      ]
     },
     "execution_count": 99,
     "metadata": {},
     "output_type": "execute_result"
    },
    {
     "data": {
      "image/png": "[encoded data removed]",
      "text/plain": [
       "<Figure size 432x288 with 1 Axes>"
      ]
     },
     "metadata": {
      "needs_background": "light"
     },
     "output_type": "display_data"
    }
   ],
   "source": [
    "y_hat = x@v\n",
    "\n",
    "plt.scatter(x[:,0], y)\n",
    "plt.scatter(x[:,0], y_hat)"
   ]
  }
 ],
 "metadata": {
  "kernelspec": {
   "display_name": "Python 3",
   "language": "python",
   "name": "python3"
  },
  "language_info": {
   "codemirror_mode": {
    "name": "ipython",
    "version": 3
   },
   "file_extension": ".py",
   "mimetype": "text/x-python",
   "name": "python",
   "nbconvert_exporter": "python",
   "pygments_lexer": "ipython3",
   "version": "3.8.2"
  }
 },
 "nbformat": 4,
 "nbformat_minor": 4
}
